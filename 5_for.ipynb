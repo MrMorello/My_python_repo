{
 "cells": [
  {
   "cell_type": "markdown",
   "metadata": {},
   "source": [
    "# Циклы в Python\n",
    "## Цикл for\n",
    "\n",
    "Этот цикл обычно используется, когда известно точное число итераций, либо при обходе последовательности.\n",
    "\n",
    "![](for2.png)"
   ]
  },
  {
   "cell_type": "code",
   "execution_count": 3,
   "metadata": {},
   "outputs": [
    {
     "name": "stdout",
     "output_type": "stream",
     "text": [
      "1 2 3 4 5 6 7 8 9 10 "
     ]
    }
   ],
   "source": [
    "for i in range(1,11,1):\n",
    "    print(i, end=' ')"
   ]
  },
  {
   "cell_type": "code",
   "execution_count": 5,
   "metadata": {},
   "outputs": [
    {
     "name": "stdout",
     "output_type": "stream",
     "text": [
      "-1 -2 -3 -4 -5 "
     ]
    }
   ],
   "source": [
    "for i in -1,-2,-3,-4,-5:\n",
    "    print(i, end=' ')"
   ]
  },
  {
   "cell_type": "code",
   "execution_count": 6,
   "metadata": {},
   "outputs": [
    {
     "name": "stdout",
     "output_type": "stream",
     "text": [
      "2 3 7 1 8 "
     ]
    }
   ],
   "source": [
    "for i in [2, 3, 7, 1, 8]:\n",
    "    print(i, end=' ')"
   ]
  },
  {
   "cell_type": "markdown",
   "metadata": {},
   "source": [
    "## range() - диапазон\n",
    "Функция `range()` представляет собой неизменяемую последовательность. Можно условно представить в виде списка или кортежа, но не хранящегося целиком в памяти, а вычисляющего новое значение по мере необходимости.\n",
    "\n",
    "https://docs.python.org/3/library/functions.html#func-range"
   ]
  },
  {
   "cell_type": "code",
   "execution_count": null,
   "metadata": {},
   "outputs": [],
   "source": [
    "range(stop)\n",
    "range(start, stop[, step])"
   ]
  },
  {
   "cell_type": "markdown",
   "metadata": {},
   "source": [
    "Обратите внимание, что числа генерируются начиная со `start` включительно, заканчивая `stop`, но не включая его:"
   ]
  },
  {
   "cell_type": "code",
   "execution_count": 10,
   "metadata": {},
   "outputs": [
    {
     "data": {
      "text/plain": [
       "range(0, 10)"
      ]
     },
     "execution_count": 10,
     "metadata": {},
     "output_type": "execute_result"
    }
   ],
   "source": [
    "range(10)"
   ]
  },
  {
   "cell_type": "code",
   "execution_count": 11,
   "metadata": {},
   "outputs": [
    {
     "data": {
      "text/plain": [
       "[0, 1, 2, 3, 4, 5, 6, 7, 8, 9]"
      ]
     },
     "execution_count": 11,
     "metadata": {},
     "output_type": "execute_result"
    }
   ],
   "source": [
    "list(range(10)) # Представили в виде списка"
   ]
  },
  {
   "cell_type": "code",
   "execution_count": 15,
   "metadata": {},
   "outputs": [
    {
     "name": "stdout",
     "output_type": "stream",
     "text": [
      "10 9 8 7 6 5 4 3 2 1 "
     ]
    }
   ],
   "source": [
    "for i in range(10,0,-1):\n",
    "    print(i, end=' ')"
   ]
  },
  {
   "cell_type": "markdown",
   "metadata": {},
   "source": [
    "**Пример 1**. Распечатать арифметическую прогрессию с первым членом 5, последним $-$ 40 и разностью прогрессии 5."
   ]
  },
  {
   "cell_type": "code",
   "execution_count": 17,
   "metadata": {},
   "outputs": [
    {
     "name": "stdout",
     "output_type": "stream",
     "text": [
      "5 10 15 20 25 30 35 40 "
     ]
    }
   ],
   "source": [
    "for i in range(5,41,5):\n",
    "    print(i, end=' ')"
   ]
  },
  {
   "cell_type": "markdown",
   "metadata": {},
   "source": [
    "**Пример 2**. Распечатать $n$ первых членов целочисленной арифметической прогрессии с первым членом $a_1$ и разностью прогрессии $d\\ne0$."
   ]
  },
  {
   "cell_type": "code",
   "execution_count": 2,
   "metadata": {},
   "outputs": [
    {
     "name": "stdout",
     "output_type": "stream",
     "text": [
      "1\n",
      "2\n",
      "5\n",
      "1 3 5 7 9 "
     ]
    }
   ],
   "source": [
    "# Арифметическая прогрессия\n",
    "a_1 = int(input())\n",
    "d = int(input())\n",
    "n = int(input())\n",
    "for i in range(a_1, a_1 + n * d, d):\n",
    "    print(i, end=' ')"
   ]
  },
  {
   "cell_type": "markdown",
   "metadata": {},
   "source": [
    "**Пример 3**. Распечатать $n$ первых членов целочисленной арифметической прогрессии с первым членом $a_1$ и разностью прогрессии $d\\ne0$ в виде $a_1 + a_2 + ... + a_n = S$, где $S -$ сумма последовательности."
   ]
  },
  {
   "cell_type": "code",
   "execution_count": 2,
   "metadata": {},
   "outputs": [
    {
     "name": "stdout",
     "output_type": "stream",
     "text": [
      "1\n",
      "3\n",
      "6\n",
      "1 + 4 + 7 + 10 + 13 + 16 = 51\n"
     ]
    }
   ],
   "source": [
    "# Арифметическая прогрессия\n",
    "a_0, d, n = int(input()),int(input()),int(input())\n",
    "a_n = a_0 + (n-1)*d\n",
    "S = int((a_0 + a_n)/2*n)\n",
    "for i in range(a_0, a_n, d):\n",
    "    print(i, end=' + ')\n",
    "print(a_n,'=', S)"
   ]
  },
  {
   "cell_type": "markdown",
   "metadata": {},
   "source": [
    "Как исправить вывод, если члены последовательности будут отрицательными?"
   ]
  },
  {
   "cell_type": "markdown",
   "metadata": {},
   "source": [
    "## Контрольные вопросы\n",
    "\n",
    "1. Сколько раз выполнится цикл?\n",
    "\n",
    "    ```python\n",
    "    for i in range(4, 5):\n",
    "        pass\n",
    "```\n",
    "1. Сколько раз выполнится цикл?\n",
    "    ```python\n",
    "    for i in range(1, 4, 4):\n",
    "        pass\n",
    "```\n",
    "1. Сколько раз выполнится цикл?\n",
    "    ```python\n",
    "    for i in range(1, 10, -1):\n",
    "        pass\n",
    "```\n",
    "1. Сколько раз выполнится цикл?\n",
    "    ```python\n",
    "    for i in range(10, 0, -1):\n",
    "        pass\n",
    "```\n",
    "1. Можно ли управлять циклом `for` с помощью `break`, `continue` и `else`?"
   ]
  },
  {
   "cell_type": "markdown",
   "metadata": {},
   "source": [
    "## Задачи для самостоятельного выполнения:"
   ]
  },
  {
   "cell_type": "markdown",
   "metadata": {},
   "source": [
    "**Последовательность**. Вывести последовательность чисел $1, \\frac{1 }{ 2},\\frac{1 }{ 3}, \\dots,\\frac{1 }{ n}$"
   ]
  },
  {
   "cell_type": "code",
   "execution_count": 8,
   "metadata": {},
   "outputs": [
    {
     "name": "stdout",
     "output_type": "stream",
     "text": [
      "input n:8\n",
      "1.0 0.5 0.3333333333333333 0.25 0.2 0.16666666666666666 0.14285714285714285 0.125 "
     ]
    }
   ],
   "source": [
    "n = int(input(\"input n:\"))\n",
    "for i in range(0, n):\n",
    "    print(1/(i+1))"
   ]
  },
  {
   "cell_type": "markdown",
   "metadata": {},
   "source": [
    "**Что-то не сходится...**. Найти частичную сумму ряда $1 + \\frac{1 }{ 2} + \\frac{1 }{ 3} + \\dots + \\frac{1 }{ n}$"
   ]
  },
  {
   "cell_type": "code",
   "execution_count": 10,
   "metadata": {},
   "outputs": [
    {
     "name": "stdout",
     "output_type": "stream",
     "text": [
      "input n:8\n",
      "1.0\n",
      "1.5\n",
      "1.8333333333333333\n",
      "2.083333333333333\n",
      "2.283333333333333\n",
      "2.4499999999999997\n",
      "2.5928571428571425\n",
      "2.7178571428571425\n"
     ]
    }
   ],
   "source": [
    "n = int(input(\"input n:\"))\n",
    "summ = 0\n",
    "for i in range(0, n):\n",
    "    summ = summ + 1/(i+1)\n",
    "    print(summ)"
   ]
  },
  {
   "cell_type": "markdown",
   "metadata": {},
   "source": [
    "**Знакочередующийся**. Найти частичную сумму ряда $1 - \\frac{1 }{ 2} + \\frac{1 }{ 3} - \\dots + \\frac{(-1)^{(n+1)} }{ n}$\n"
   ]
  },
  {
   "cell_type": "code",
   "execution_count": 14,
   "metadata": {},
   "outputs": [
    {
     "name": "stdout",
     "output_type": "stream",
     "text": [
      "input n:8\n",
      "1.0\n",
      "0.5\n",
      "0.8333333333333333\n",
      "0.5833333333333333\n",
      "0.7833333333333332\n",
      "0.6166666666666666\n",
      "0.7595238095238095\n",
      "0.6345238095238095\n"
     ]
    }
   ],
   "source": [
    "n = int(input(\"input n:\"))\n",
    "summ = 0\n",
    "for i in range(0, n):\n",
    "    if (i % 2) == 0:\n",
    "        summ = summ + 1/(i+1)\n",
    "        i += 1\n",
    "        print(summ)\n",
    "    else:\n",
    "        summ = summ - 1/(i+1)\n",
    "        i += 1\n",
    "        print(summ)"
   ]
  },
  {
   "cell_type": "code",
   "execution_count": 3,
   "metadata": {},
   "outputs": [
    {
     "name": "stdout",
     "output_type": "stream",
     "text": [
      "input n:8\n",
      "1.0\n",
      "0.5\n",
      "0.8333333333333333\n",
      "0.5833333333333333\n",
      "0.7833333333333332\n",
      "0.6166666666666666\n",
      "0.7595238095238095\n",
      "0.6345238095238095\n"
     ]
    }
   ],
   "source": [
    "n = int(input(\"input n:\"))\n",
    "summ = 0\n",
    "for i in range(0, n):\n",
    "    summ = summ +(-1)**i/(i+1)\n",
    "    print(summ)"
   ]
  },
  {
   "cell_type": "markdown",
   "metadata": {},
   "source": [
    "**Факториал числа**. Вычислить факториал числа ($0!=1$, $n! = 1\\times2\\times3\\times\\dots\\times n$) без использования библиотеки `math`."
   ]
  },
  {
   "cell_type": "code",
   "execution_count": 5,
   "metadata": {},
   "outputs": [
    {
     "name": "stdout",
     "output_type": "stream",
     "text": [
      "input n:8\n",
      "1\n",
      "2\n",
      "6\n",
      "24\n",
      "120\n",
      "720\n",
      "5040\n",
      "40320\n"
     ]
    }
   ],
   "source": [
    "n = int(input(\"input n:\"))\n",
    "f = 1\n",
    "for i in range(1, n + 1):\n",
    "    f *= i\n",
    "    print(f)"
   ]
  },
  {
   "cell_type": "markdown",
   "metadata": {},
   "source": [
    "**Делители числа**. Найдите все делители данного натурального числа."
   ]
  },
  {
   "cell_type": "code",
   "execution_count": 2,
   "metadata": {},
   "outputs": [
    {
     "name": "stdout",
     "output_type": "stream",
     "text": [
      "input n:13\n",
      "1\n",
      "13\n"
     ]
    }
   ],
   "source": [
    "n = int(input(\"input n:\"))\n",
    "for i in range(1, n+1):\n",
    "    if (n % i) == 0:\n",
    "        print(i)\n",
    "    else:\n",
    "        pass\n"
   ]
  },
  {
   "cell_type": "markdown",
   "metadata": {},
   "source": [
    "**Значения функции**. Вычислите значения функции $f(x)=x^2−sinx$ на отрезке $[a;b]$ с шагом $h$ (воспользоваться модулем math). Результат представить в виде таблицы: $x$ | $f(x)$"
   ]
  },
  {
   "cell_type": "code",
   "execution_count": 14,
   "metadata": {},
   "outputs": [
    {
     "name": "stdout",
     "output_type": "stream",
     "text": [
      "input a:0\n",
      "input b:1\n",
      "input h:0.1\n",
      "0.0\n",
      "0.010099833334166666\n",
      "0.020398666693333085\n",
      "0.03089550020249567\n",
      "0.04158933418663417\n",
      "0.05247916927067833\n",
      "0.06356400647944462\n",
      "0.07484284733753277\n",
      "0.08631469396917271\n",
      "0.09797854919801105\n"
     ]
    }
   ],
   "source": [
    "import math\n",
    "import numpy as np\n",
    "\n",
    "f = 0\n",
    "x=a = float(input(\"input a:\"))\n",
    "b = float(input(\"input b:\"))\n",
    "h = float(input(\"input h:\"))\n",
    "#вычислить h\n",
    "interations b - a / h\n",
    "for i in np.arange(a, b, h):\n",
    "    x = x + h\n",
    "    f = ((x)**2 + math.sin(x))\n",
    "    print(f)"
   ]
  },
  {
   "cell_type": "markdown",
   "metadata": {},
   "source": [
    "**Есть четные**. Вводится число $n$ и затем $n$ целых чисел. Если среди них есть четные числа, вывести \"Есть четные!\". "
   ]
  },
  {
   "cell_type": "markdown",
   "metadata": {},
   "source": [
    "**Все четные**. Вводится число $n$ и затем $n$ целых чисел. Если все введеные числа четные, вывести \"Все четные!\". "
   ]
  },
  {
   "cell_type": "markdown",
   "metadata": {},
   "source": [
    "**Тест простоты**. Определите, является ли данное число простым."
   ]
  },
  {
   "cell_type": "markdown",
   "metadata": {},
   "source": [
    "**Фибоначчи**. Найдите n-ое число Фибоначчи: $F_1 = 1, F_2 = 1, F_n = F_{n-1} + ,F_{n-2} $."
   ]
  },
  {
   "cell_type": "markdown",
   "metadata": {},
   "source": [
    "**Таблица умножения**. Вывести таблицу умножения."
   ]
  },
  {
   "cell_type": "markdown",
   "metadata": {},
   "source": [
    "**Пифагоровы тройки**. Найдите количество прямоугольных треугольников с целочисленными сторонами, меньшими 100."
   ]
  }
 ],
 "metadata": {
  "kernelspec": {
   "display_name": "Python 3",
   "language": "python",
   "name": "python3"
  },
  "language_info": {
   "codemirror_mode": {
    "name": "ipython",
    "version": 3
   },
   "file_extension": ".py",
   "mimetype": "text/x-python",
   "name": "python",
   "nbconvert_exporter": "python",
   "pygments_lexer": "ipython3",
   "version": "3.7.4"
  }
 },
 "nbformat": 4,
 "nbformat_minor": 2
}
